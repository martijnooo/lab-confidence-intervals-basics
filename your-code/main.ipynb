{
 "cells": [
  {
   "cell_type": "markdown",
   "metadata": {},
   "source": [
    "# Lab | Confidence Intervals Basics\n",
    "\n",
    "## Challenge 1\n",
    "We want to estimate the average size of the men of a country with a confidence level of 80%. Assuming that the standard deviation of the sizes in the population is 4, get the confidence interval with a sample of men selected randomly, whose heights are:\n",
    "\n",
    "167 167 168 168 168 169 171 172 173 175 175 175 177 182 195"
   ]
  },
  {
   "cell_type": "code",
   "execution_count": 1,
   "metadata": {},
   "outputs": [],
   "source": [
    "import pandas as pd\n",
    "import numpy as np\n",
    "import scipy.stats as stats"
   ]
  },
  {
   "cell_type": "code",
   "execution_count": 18,
   "metadata": {},
   "outputs": [],
   "source": [
    "heights = [167, 167, 168, 168, 168, 169, 171, 172, 173, 175, 175, 175, 177, 182, 195]\n",
    "pop_sd = 4"
   ]
  },
  {
   "cell_type": "code",
   "execution_count": 30,
   "metadata": {},
   "outputs": [],
   "source": [
    "sample_mean = np.mean(heights)\n",
    "z_score_80 = stats.norm.ppf(0.9)  # 80% confidence level corresponds to 90% in one tail"
   ]
  },
  {
   "cell_type": "code",
   "execution_count": 31,
   "metadata": {},
   "outputs": [
    {
     "name": "stdout",
     "output_type": "stream",
     "text": [
      "80% Confidence Interval: [172.14, 174.79]\n"
     ]
    }
   ],
   "source": [
    "ci_lower = sample_mean - z_score_80*pop_sd/np.sqrt(len(heights))\n",
    "ci_upper = sample_mean + z_score_80*pop_sd/np.sqrt(len(heights))\n",
    "\n",
    "print(f\"80% Confidence Interval: [{ci_lower:.2f}, {ci_upper:.2f}]\")"
   ]
  },
  {
   "cell_type": "markdown",
   "metadata": {},
   "source": [
    "## Challenge 2 \n",
    "In a sample of 105 shops selected randomly from an area, we note that 27 of them have had losses in this month. Get an confidence interval for the proportion of businesses in the area with losses, to a confidence level \n",
    "* of 80% and confidence level.\n",
    "* of 90%.\n"
   ]
  },
  {
   "cell_type": "code",
   "execution_count": 29,
   "metadata": {},
   "outputs": [],
   "source": [
    "p_loss = 27/105\n",
    "p_profit = 1 - p_loss"
   ]
  },
  {
   "cell_type": "code",
   "execution_count": 32,
   "metadata": {},
   "outputs": [],
   "source": [
    "z_score_90 = stats.norm.ppf(0.95)  # 90% confidence level corresponds to 95% in one tai5"
   ]
  },
  {
   "cell_type": "code",
   "execution_count": 36,
   "metadata": {},
   "outputs": [
    {
     "data": {
      "text/plain": [
       "(np.float64(0.20248138545542083), np.float64(0.3118043288302934))"
      ]
     },
     "execution_count": 36,
     "metadata": {},
     "output_type": "execute_result"
    }
   ],
   "source": [
    "lower_limit_80 = p_loss - z_score_80 * np.sqrt(p_loss*p_profit/105)\n",
    "uper_limit_80 = p_loss + z_score_80 * np.sqrt(p_loss*p_profit/105)\n",
    "lower_limit_80, uper_limit_80"
   ]
  },
  {
   "cell_type": "code",
   "execution_count": 37,
   "metadata": {},
   "outputs": [
    {
     "data": {
      "text/plain": [
       "(np.float64(0.18698561776452813), np.float64(0.3273000965211861))"
      ]
     },
     "execution_count": 37,
     "metadata": {},
     "output_type": "execute_result"
    }
   ],
   "source": [
    "lower_limit_90 = p_loss - z_score_90 * np.sqrt(p_loss*p_profit/105)\n",
    "uper_limit_90 = p_loss + z_score_90 * np.sqrt(p_loss*p_profit/105)\n",
    "lower_limit_90, uper_limit_90"
   ]
  },
  {
   "cell_type": "markdown",
   "metadata": {},
   "source": [
    "## Challenge 3 - To practice more\n",
    "For the same example above, calculate a confidence interval for the variance at 90% level."
   ]
  },
  {
   "cell_type": "code",
   "execution_count": null,
   "metadata": {},
   "outputs": [],
   "source": [
    "# see above"
   ]
  },
  {
   "cell_type": "markdown",
   "metadata": {},
   "source": [
    "## Challenge 4 - To practice more\n",
    "The sulfuric acid content of 7 similar containers is 9.8, 10.2, 10.4, 9.8, 10.0, 10.2 and 9.6 liters. Calculate a 95% confidence interval for the average content of all containers assuming an approximately normal distribution.\n",
    "\n",
    "\n"
   ]
  },
  {
   "cell_type": "code",
   "execution_count": 39,
   "metadata": {},
   "outputs": [
    {
     "name": "stdout",
     "output_type": "stream",
     "text": [
      "95% Confidence Interval for sulfuric acid content: [9.79, 10.21]\n"
     ]
    }
   ],
   "source": [
    "# Data for sulfuric acid content\n",
    "acid_content = [9.8, 10.2, 10.4, 9.8, 10.0, 10.2, 9.6]\n",
    "\n",
    "# Sample size\n",
    "n = len(acid_content)\n",
    "\n",
    "# Sample mean\n",
    "mean_acid_content = np.mean(acid_content)\n",
    "\n",
    "# Sample standard deviation\n",
    "std_acid_content = np.std(acid_content, ddof=1)\n",
    "\n",
    "# Z-score for 95% confidence level\n",
    "z_score_95 = stats.norm.ppf(0.975)\n",
    "\n",
    "ci_lower_acid = mean_acid_content - z_score_95 * (std_acid_content / np.sqrt(n))\n",
    "ci_upper_acid = mean_acid_content + z_score_95 * (std_acid_content / np.sqrt(n))\n",
    "\n",
    "print(f\"95% Confidence Interval for sulfuric acid content: [{ci_lower_acid:.2f}, {ci_upper_acid:.2f}]\")\n"
   ]
  },
  {
   "cell_type": "markdown",
   "metadata": {},
   "source": [
    "## Bonus challenge\n",
    "The error level or sampling error for the first challenge is given by the following expression:\n",
    "$$Error = z_{\\frac{\\alpha}{2}}\\frac{\\sigma}{\\sqrt n}$$\n",
    "Where z represents the value for N(0,1)\n",
    "\n",
    "\n",
    "Suppose that with the previous data in the challenge 1, and with a confidence level of\n",
    "99% (that is, almost certainly) we want to estimate the average population size, so that the error level committed is not greater than half a centimeter.\n",
    "\n",
    "i) Determine what size the selected sample of men should be."
   ]
  },
  {
   "cell_type": "code",
   "execution_count": 51,
   "metadata": {},
   "outputs": [
    {
     "data": {
      "text/plain": [
       "np.float64(424.63338246535767)"
      ]
     },
     "execution_count": 51,
     "metadata": {},
     "output_type": "execute_result"
    }
   ],
   "source": [
    "z_score_99 = stats.norm.ppf(0.995)\n",
    "\n",
    "# Desired error level\n",
    "desired_error = 0.5  # in centimeters\n",
    "\n",
    "# Calculate the required sample size\n",
    "required_sample_size = (z_score_99 * pop_sd / desired_error) ** 2\n",
    "required_sample_size"
   ]
  },
  {
   "cell_type": "markdown",
   "metadata": {},
   "source": [
    "ii) For the second challenge, we have the following error:\n",
    "$$ Error = z_{\\frac{\\alpha}{2}}\\sqrt{\\frac{p\\times q}{n}} $$\n",
    "Determine the sample required to not exceed a certain error"
   ]
  },
  {
   "cell_type": "markdown",
   "metadata": {},
   "source": [
    "For the last case, determine the sample size needed so that the error will not\n",
    "exceed 1%, with a confidence of 80%."
   ]
  },
  {
   "cell_type": "code",
   "execution_count": 52,
   "metadata": {},
   "outputs": [
    {
     "data": {
      "text/plain": [
       "np.float64(3137.27031138822)"
      ]
     },
     "execution_count": 52,
     "metadata": {},
     "output_type": "execute_result"
    }
   ],
   "source": [
    "z_score_80**2*p_loss*p_profit/0.01**2"
   ]
  },
  {
   "cell_type": "markdown",
   "metadata": {},
   "source": [
    "## Bonus challenge"
   ]
  },
  {
   "cell_type": "markdown",
   "metadata": {},
   "source": [
    "Let's consider the following problem:\n",
    "\n",
    "Build a confidence interval of 94% for the real difference between the durations of two brands of spotlights, if a sample of 40 spotlights taken randomly from the first mark gave an average duration of 418 hours, and a sample of 50 bulbs of another brand gave a duration average of 402 hours. The standard deviations of the two\n",
    "populations are 26 hours and 22 hours, respectively.\n",
    "\n",
    "Sometimes, we will be interested in the difference of two different groups of random variables. We can also build a confidence interval for that! We have some different cases regarding the variance but for this specific case (the variance are different and known), we have that:\n",
    "\n",
    "$$\\overline{X} - \\overline{Y}  \\sim N(\\mu_{X} - \\mu_{Y} , \\sqrt{\\frac{\\sigma_{X}^2}{n_X}+\\frac{\\sigma_{Y}^2}{n_Y}})$$\n",
    "\n",
    "Solve the problem with this information."
   ]
  },
  {
   "cell_type": "code",
   "execution_count": 58,
   "metadata": {},
   "outputs": [],
   "source": [
    "z_score_94 = stats.norm.ppf(0.97)"
   ]
  },
  {
   "cell_type": "code",
   "execution_count": 59,
   "metadata": {},
   "outputs": [
    {
     "data": {
      "text/plain": [
       "(np.float64(25.69658097341408), np.float64(6.303419026585921))"
      ]
     },
     "execution_count": 59,
     "metadata": {},
     "output_type": "execute_result"
    }
   ],
   "source": [
    "uper = 418 - 402 + z_score_94 * np.sqrt(26**2/ 40 + 22**2 / 50)\n",
    "lower = 418 - 402 - z_score_94 * np.sqrt(26**2/ 40 + 22**2 / 50)\n",
    "\n",
    "uper, lower"
   ]
  }
 ],
 "metadata": {
  "kernelspec": {
   "display_name": "venv",
   "language": "python",
   "name": "python3"
  },
  "language_info": {
   "codemirror_mode": {
    "name": "ipython",
    "version": 3
   },
   "file_extension": ".py",
   "mimetype": "text/x-python",
   "name": "python",
   "nbconvert_exporter": "python",
   "pygments_lexer": "ipython3",
   "version": "3.12.7"
  }
 },
 "nbformat": 4,
 "nbformat_minor": 2
}
